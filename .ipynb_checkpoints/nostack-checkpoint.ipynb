{
 "cells": [
  {
   "metadata": {
    "jupyter": {
     "is_executing": true
    },
    "ExecuteTime": {
     "start_time": "2024-05-16T10:35:13.584077Z"
    }
   },
   "cell_type": "code",
   "source": [
    "import numpy as np\n",
    "import pandas as pd\n",
    "\n",
    "import matplotlib.pyplot as plt\n",
    "\n",
    "# 读取CSV文件\n",
    "df_k = pd.read_csv('kz_1.csv')\n",
    "df_theta = pd.read_csv('Theta_1.csv')\n",
    "\n",
    "# 创建空列表存储计算结果\n",
    "results = []\n",
    "\n",
    "# 遍历每一行数据\n",
    "for i in range(len(df_k)):\n",
    "    # 获取第i行的k和theta值\n",
    "    k_i = df_k.iloc[i].values\n",
    "    theta_i = df_theta.iloc[i].values\n",
    "    \n",
    "    # 计算公式中的值\n",
    "    h = -1 / k_i * theta_i\n",
    "    \n",
    "    # 将计算结果添加到列表中\n",
    "    results.append(h)\n",
    "\n",
    "# 绘制图形\n",
    "plt.plot(results)\n",
    "plt.xlabel('Row Index')\n",
    "plt.ylabel('h')\n",
    "plt.title('Plot of h values')\n",
    "plt.show()"
   ],
   "id": "588ee8be30b8ce04",
   "outputs": [],
   "execution_count": null
  },
  {
   "cell_type": "code",
   "execution_count": null,
   "id": "initial_id",
   "metadata": {
    "collapsed": true
   },
   "outputs": [],
   "source": [
    ""
   ]
  }
 ],
 "metadata": {
  "kernelspec": {
   "display_name": "Python 3",
   "language": "python",
   "name": "python3"
  },
  "language_info": {
   "codemirror_mode": {
    "name": "ipython",
    "version": 2
   },
   "file_extension": ".py",
   "mimetype": "text/x-python",
   "name": "python",
   "nbconvert_exporter": "python",
   "pygments_lexer": "ipython2",
   "version": "2.7.6"
  }
 },
 "nbformat": 4,
 "nbformat_minor": 5
}
