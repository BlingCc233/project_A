{
 "cells": [
  {
   "cell_type": "code",
   "id": "initial_id",
   "metadata": {
    "collapsed": true,
    "ExecuteTime": {
     "end_time": "2024-05-16T12:39:52.174022Z",
     "start_time": "2024-05-16T12:39:50.880232Z"
    }
   },
   "source": [
    "import pandas as pd\n",
    "\n",
    "dfs_k = []\n",
    "dfs_theta = []\n",
    "for i in range(1, 6):\n",
    "    dfs_k.append(pd.read_csv(f'./raw_data/kz_{i}.csv'))\n",
    "    dfs_theta.append(pd.read_csv(f'./raw_data/Theta_{i}.csv'))\n"
   ],
   "outputs": [],
   "execution_count": 1
  },
  {
   "metadata": {},
   "cell_type": "markdown",
   "source": "使用Python读取提供的CSV文件。\n",
   "id": "1897bfcf080b8192"
  },
  {
   "metadata": {},
   "cell_type": "code",
   "outputs": [],
   "execution_count": null,
   "source": [
    "import numpy as np\n",
    "\n",
    "# 假设true_values为已知的参考高程值矩阵\n",
    "# 这里我们用随机数生成一个示例，实际应用中应使用实际参考数据\n",
    "true_values = np.random.uniform(150, 300, size=(805, 2001))\n"
   ],
   "id": "792562f5eb2a110e"
  },
  {
   "metadata": {
    "ExecuteTime": {
     "end_time": "2024-05-16T12:39:52.795084Z",
     "start_time": "2024-05-16T12:39:52.175814Z"
    }
   },
   "cell_type": "code",
   "source": [
    "\n",
    "def estimate_height(phi1, phi2, k1, k2):\n",
    "    n = np.round((phi1 - phi2) / (2 * np.pi))\n",
    "    h = (phi1 - phi2 + 2 * np.pi * n) / (k1 - k2)\n",
    "    return h\n",
    "\n",
    "def calculate_elevation(kz, theta, n):\n",
    "    return - (1 / kz) * (theta + 2 * n * np.pi)\n",
    "    \n",
    "\n",
    "heights = estimate_height(df_theta1['theta'], df_theta2['theta'], df_k1['k'], df_k2['k'])\n"
   ],
   "id": "f01317c2bb402de5",
   "outputs": [
    {
     "ename": "KeyError",
     "evalue": "'theta'",
     "output_type": "error",
     "traceback": [
      "\u001B[0;31m---------------------------------------------------------------------------\u001B[0m",
      "\u001B[0;31mKeyError\u001B[0m                                  Traceback (most recent call last)",
      "File \u001B[0;32m~/PycharmProjects/project A/.venv/lib/python3.9/site-packages/pandas/core/indexes/base.py:3805\u001B[0m, in \u001B[0;36mIndex.get_loc\u001B[0;34m(self, key)\u001B[0m\n\u001B[1;32m   3804\u001B[0m \u001B[38;5;28;01mtry\u001B[39;00m:\n\u001B[0;32m-> 3805\u001B[0m     \u001B[38;5;28;01mreturn\u001B[39;00m \u001B[38;5;28;43mself\u001B[39;49m\u001B[38;5;241;43m.\u001B[39;49m\u001B[43m_engine\u001B[49m\u001B[38;5;241;43m.\u001B[39;49m\u001B[43mget_loc\u001B[49m\u001B[43m(\u001B[49m\u001B[43mcasted_key\u001B[49m\u001B[43m)\u001B[49m\n\u001B[1;32m   3806\u001B[0m \u001B[38;5;28;01mexcept\u001B[39;00m \u001B[38;5;167;01mKeyError\u001B[39;00m \u001B[38;5;28;01mas\u001B[39;00m err:\n",
      "File \u001B[0;32mindex.pyx:167\u001B[0m, in \u001B[0;36mpandas._libs.index.IndexEngine.get_loc\u001B[0;34m()\u001B[0m\n",
      "File \u001B[0;32mindex.pyx:196\u001B[0m, in \u001B[0;36mpandas._libs.index.IndexEngine.get_loc\u001B[0;34m()\u001B[0m\n",
      "File \u001B[0;32mpandas/_libs/hashtable_class_helper.pxi:7081\u001B[0m, in \u001B[0;36mpandas._libs.hashtable.PyObjectHashTable.get_item\u001B[0;34m()\u001B[0m\n",
      "File \u001B[0;32mpandas/_libs/hashtable_class_helper.pxi:7089\u001B[0m, in \u001B[0;36mpandas._libs.hashtable.PyObjectHashTable.get_item\u001B[0;34m()\u001B[0m\n",
      "\u001B[0;31mKeyError\u001B[0m: 'theta'",
      "\nThe above exception was the direct cause of the following exception:\n",
      "\u001B[0;31mKeyError\u001B[0m                                  Traceback (most recent call last)",
      "Cell \u001B[0;32mIn[2], line 8\u001B[0m\n\u001B[1;32m      5\u001B[0m     h \u001B[38;5;241m=\u001B[39m (phi1 \u001B[38;5;241m-\u001B[39m phi2 \u001B[38;5;241m+\u001B[39m \u001B[38;5;241m2\u001B[39m \u001B[38;5;241m*\u001B[39m np\u001B[38;5;241m.\u001B[39mpi \u001B[38;5;241m*\u001B[39m n) \u001B[38;5;241m/\u001B[39m (k1 \u001B[38;5;241m-\u001B[39m k2)\n\u001B[1;32m      6\u001B[0m     \u001B[38;5;28;01mreturn\u001B[39;00m h\n\u001B[0;32m----> 8\u001B[0m heights \u001B[38;5;241m=\u001B[39m estimate_height(\u001B[43mdf_theta1\u001B[49m\u001B[43m[\u001B[49m\u001B[38;5;124;43m'\u001B[39;49m\u001B[38;5;124;43mtheta\u001B[39;49m\u001B[38;5;124;43m'\u001B[39;49m\u001B[43m]\u001B[49m, df_theta2[\u001B[38;5;124m'\u001B[39m\u001B[38;5;124mtheta\u001B[39m\u001B[38;5;124m'\u001B[39m], df_k1[\u001B[38;5;124m'\u001B[39m\u001B[38;5;124mk\u001B[39m\u001B[38;5;124m'\u001B[39m], df_k2[\u001B[38;5;124m'\u001B[39m\u001B[38;5;124mk\u001B[39m\u001B[38;5;124m'\u001B[39m])\n",
      "File \u001B[0;32m~/PycharmProjects/project A/.venv/lib/python3.9/site-packages/pandas/core/frame.py:4102\u001B[0m, in \u001B[0;36mDataFrame.__getitem__\u001B[0;34m(self, key)\u001B[0m\n\u001B[1;32m   4100\u001B[0m \u001B[38;5;28;01mif\u001B[39;00m \u001B[38;5;28mself\u001B[39m\u001B[38;5;241m.\u001B[39mcolumns\u001B[38;5;241m.\u001B[39mnlevels \u001B[38;5;241m>\u001B[39m \u001B[38;5;241m1\u001B[39m:\n\u001B[1;32m   4101\u001B[0m     \u001B[38;5;28;01mreturn\u001B[39;00m \u001B[38;5;28mself\u001B[39m\u001B[38;5;241m.\u001B[39m_getitem_multilevel(key)\n\u001B[0;32m-> 4102\u001B[0m indexer \u001B[38;5;241m=\u001B[39m \u001B[38;5;28;43mself\u001B[39;49m\u001B[38;5;241;43m.\u001B[39;49m\u001B[43mcolumns\u001B[49m\u001B[38;5;241;43m.\u001B[39;49m\u001B[43mget_loc\u001B[49m\u001B[43m(\u001B[49m\u001B[43mkey\u001B[49m\u001B[43m)\u001B[49m\n\u001B[1;32m   4103\u001B[0m \u001B[38;5;28;01mif\u001B[39;00m is_integer(indexer):\n\u001B[1;32m   4104\u001B[0m     indexer \u001B[38;5;241m=\u001B[39m [indexer]\n",
      "File \u001B[0;32m~/PycharmProjects/project A/.venv/lib/python3.9/site-packages/pandas/core/indexes/base.py:3812\u001B[0m, in \u001B[0;36mIndex.get_loc\u001B[0;34m(self, key)\u001B[0m\n\u001B[1;32m   3807\u001B[0m     \u001B[38;5;28;01mif\u001B[39;00m \u001B[38;5;28misinstance\u001B[39m(casted_key, \u001B[38;5;28mslice\u001B[39m) \u001B[38;5;129;01mor\u001B[39;00m (\n\u001B[1;32m   3808\u001B[0m         \u001B[38;5;28misinstance\u001B[39m(casted_key, abc\u001B[38;5;241m.\u001B[39mIterable)\n\u001B[1;32m   3809\u001B[0m         \u001B[38;5;129;01mand\u001B[39;00m \u001B[38;5;28many\u001B[39m(\u001B[38;5;28misinstance\u001B[39m(x, \u001B[38;5;28mslice\u001B[39m) \u001B[38;5;28;01mfor\u001B[39;00m x \u001B[38;5;129;01min\u001B[39;00m casted_key)\n\u001B[1;32m   3810\u001B[0m     ):\n\u001B[1;32m   3811\u001B[0m         \u001B[38;5;28;01mraise\u001B[39;00m InvalidIndexError(key)\n\u001B[0;32m-> 3812\u001B[0m     \u001B[38;5;28;01mraise\u001B[39;00m \u001B[38;5;167;01mKeyError\u001B[39;00m(key) \u001B[38;5;28;01mfrom\u001B[39;00m \u001B[38;5;21;01merr\u001B[39;00m\n\u001B[1;32m   3813\u001B[0m \u001B[38;5;28;01mexcept\u001B[39;00m \u001B[38;5;167;01mTypeError\u001B[39;00m:\n\u001B[1;32m   3814\u001B[0m     \u001B[38;5;66;03m# If we have a listlike key, _check_indexing_error will raise\u001B[39;00m\n\u001B[1;32m   3815\u001B[0m     \u001B[38;5;66;03m#  InvalidIndexError. Otherwise we fall through and re-raise\u001B[39;00m\n\u001B[1;32m   3816\u001B[0m     \u001B[38;5;66;03m#  the TypeError.\u001B[39;00m\n\u001B[1;32m   3817\u001B[0m     \u001B[38;5;28mself\u001B[39m\u001B[38;5;241m.\u001B[39m_check_indexing_error(key)\n",
      "\u001B[0;31mKeyError\u001B[0m: 'theta'"
     ]
    }
   ],
   "execution_count": 2
  },
  {
   "metadata": {},
   "cell_type": "markdown",
   "source": [
    "根据问题描述，地形高程 \n",
    "\n",
    "$$h = \\frac{\\phi - \\theta _k }{k} + 2n\\pi $$\n",
    "其中， phi是测得的相位， theta k是已知参数，k 是基线参数， n 是相位缠绕整数。\n",
    "\n",
    "对于两组数据，可以使用联合方程组来估计高程"
   ],
   "id": "3512f0f0775dac4c"
  },
  {
   "metadata": {},
   "cell_type": "code",
   "source": [
    "import matplotlib.pyplot as plt\n",
    "\n",
    "plt.imshow(heights.reshape(805, 2001), cmap='viridis')\n",
    "plt.colorbar(label='Height (m)')\n",
    "plt.show()\n",
    "\n",
    "# 输出四个顶点的高程值\n",
    "print(\"Top-left:\", heights[0, 0])\n",
    "print(\"Top-right:\", heights[0, -1])\n",
    "print(\"Bottom-left:\", heights[-1, 0])\n",
    "print(\"Bottom-right:\", heights[-1, -1])\n"
   ],
   "id": "7fc503fb0260f7f3",
   "outputs": [],
   "execution_count": null
  },
  {
   "metadata": {},
   "cell_type": "markdown",
   "source": [
    "> 使用matplotlib等工具绘制高程色度图。\n",
    "> 提取四个顶点的高程值并输出。"
   ],
   "id": "69b5c2d372664fbb"
  },
  {
   "metadata": {},
   "cell_type": "code",
   "source": [
    "from sklearn.metrics import mean_squared_error\n",
    "\n",
    "def calculate_mse(heights, true_values):\n",
    "    return mean_squared_error(true_values, heights)\n",
    "\n",
    "# 逐步增加数据组数量，评估误差和计算复杂度\n",
    "errors = []\n",
    "for num_groups in range(2, 6):\n",
    "    combined_heights = []\n",
    "    for i in range(num_groups):\n",
    "        for j in range(i + 1, num_groups):\n",
    "            heights = estimate_height(dfs_theta[i]['theta'], dfs_theta[j]['theta'], dfs_k[i]['k'], dfs_k[j]['k'])\n",
    "            combined_heights.append(heights)\n",
    "    combined_heights = np.mean(combined_heights, axis=0)\n",
    "    error = mean_squared_error(true_values, combined_heights)\n",
    "    errors.append(error)\n",
    "\n",
    "optimal_groups = np.argmin(errors) + 2\n",
    "print(\"Optimal number of groups:\", optimal_groups)\n"
   ],
   "id": "1b1d178b71307cc7",
   "outputs": [],
   "execution_count": null
  },
  {
   "metadata": {},
   "cell_type": "markdown",
   "source": [
    "误差分析与优化:\n",
    "\n",
    "使用更多数据组可以提高高程估计的精度，但会增加计算复杂度。\n",
    "通过交叉验证或最小二乘法等方法评估多组数据对精度的影响。\n",
    "优化选择数据组的数量，使得在保证精度的情况下计算复杂度最低。"
   ],
   "id": "34601bbae1a5bc01"
  },
  {
   "metadata": {},
   "cell_type": "code",
   "source": [
    "import statsmodels.api as sm\n",
    "\n",
    "# 使用简化的OLS模型进行误差分析\n",
    "# 这里我们假设combined_heights已经通过最优组合计算得出\n",
    "combined_heights = np.mean([estimate_height(dfs_theta[0]['theta'], dfs_theta[1]['theta'], dfs_k[0]['k'], dfs_k[1]['k']),\n",
    "                            estimate_height(dfs_theta[1]['theta'], dfs_theta[2]['theta'], dfs_k[1]['k'], dfs_k[2]['k'])], axis=0)\n",
    "\n",
    "# 展平数组用于线性回归模型\n",
    "X = combined_heights.flatten()\n",
    "y = true_values.flatten()\n",
    "\n",
    "# 添加常数项用于回归分析\n",
    "X = sm.add_constant(X)\n",
    "\n",
    "# 进行回归分析\n",
    "model = sm.OLS(y, X)\n",
    "results = model.fit()\n",
    "print(results.summary())\n",
    "\n",
    "# 打印回归结果摘要\n",
    "print(results.summary())\n"
   ],
   "id": "99ec21e561a9b6c5",
   "outputs": [],
   "execution_count": null
  },
  {
   "metadata": {},
   "cell_type": "markdown",
   "source": [
    "误差分析:\n",
    "\n",
    "分析误差来源（测量误差、模型误差、相位缠绕误差等）。\n",
    "使用统计方法分析误差对高程估计的影响。"
   ],
   "id": "779d26ad3e92a63d"
  }
 ],
 "metadata": {
  "kernelspec": {
   "display_name": "Python 3",
   "language": "python",
   "name": "python3"
  },
  "language_info": {
   "codemirror_mode": {
    "name": "ipython",
    "version": 2
   },
   "file_extension": ".py",
   "mimetype": "text/x-python",
   "name": "python",
   "nbconvert_exporter": "python",
   "pygments_lexer": "ipython2",
   "version": "2.7.6"
  }
 },
 "nbformat": 4,
 "nbformat_minor": 5
}
