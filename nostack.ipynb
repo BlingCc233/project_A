{
 "cells": [
  {
   "metadata": {
    "jupyter": {
     "is_executing": true
    }
   },
   "cell_type": "code",
   "source": [
    "import math\n",
    "\n",
    "import numpy as np\n",
    "import pandas as pd\n",
    "\n",
    "import matplotlib.pyplot as plt\n",
    "\n",
    "    \n",
    "df_k = []\n",
    "df_theta = []\n",
    "\n",
    "for i in range(1,6):\n",
    "    df_k.append(pd.read_csv(f'./raw_data/kz_{i}.csv'))\n",
    "    df_theta.append(pd.read_csv(f'./raw_data/Theta_{i}.csv'))\n",
    "    \n",
    "\n",
    "# 未解缠的 n_i\n",
    "n_i = 1\n"
   ],
   "id": "588ee8be30b8ce04",
   "outputs": [],
   "execution_count": null
  },
  {
   "metadata": {},
   "cell_type": "markdown",
   "source": "raw文件读入",
   "id": "36682e126c7d9109"
  },
  {
   "metadata": {
    "jupyter": {
     "is_executing": true
    }
   },
   "cell_type": "code",
   "source": [
    "def raw_pic(index):\n",
    "    # 获取数据的行数和列数\n",
    "    num_rows = df_k[index].shape[0]\n",
    "    num_cols = df_k[index].shape[1]\n",
    "    \n",
    "    # 创建空数组存储计算结果\n",
    "    results = np.zeros((num_rows, num_cols))\n",
    "    \n",
    "    # 遍历每个数据点，计算结果\n",
    "    for i in range(num_rows):\n",
    "        for j in range(num_cols):\n",
    "            k_i = df_k[index].iloc[i, j]\n",
    "            theta_i = df_theta[index].iloc[i, j]\n",
    "            results[i, j] = -1 / k_i * (theta_i + 2 * math.pi * n_i)\n",
    "            if results[i,j] > 150:\n",
    "                print(results[i,j])\n",
    "    \n",
    "\n",
    "    \n",
    "    # 绘制色度图\n",
    "    plt.imshow(results, cmap='viridis')\n",
    "    plt.colorbar(label='Height (m)')\n",
    "    plt.title('Estimated Heights')\n",
    "    plt.show()"
   ],
   "id": "7bc5037c1aed2333",
   "outputs": [],
   "execution_count": null
  },
  {
   "metadata": {},
   "cell_type": "markdown",
   "source": [
    "# 原始数据打表\n",
    "\n",
    "> 先跑一遍原始数据，将n置为0，在不还原高程的情况下看一下相位纠缠导致的结果"
   ],
   "id": "8b237124403d3137"
  },
  {
   "metadata": {
    "jupyter": {
     "is_executing": true
    }
   },
   "cell_type": "code",
   "source": "",
   "id": "7c2a9ccf4a34f8a2",
   "outputs": [],
   "execution_count": null
  },
  {
   "metadata": {},
   "cell_type": "markdown",
   "source": "低分图像显示",
   "id": "4be23c8968590b68"
  },
  {
   "metadata": {
    "jupyter": {
     "is_executing": true
    }
   },
   "cell_type": "code",
   "source": [
    "for i in range(1,6):\n",
    "    print(f\"pic{i}\")\n",
    "    raw_pic(i)"
   ],
   "id": "37377b34736bfa5d",
   "outputs": [],
   "execution_count": null
  },
  {
   "metadata": {},
   "cell_type": "markdown",
   "source": "### 发现如同摩尔纹的噪声\n",
   "id": "8bd9fe42785fbae8"
  },
  {
   "metadata": {
    "jupyter": {
     "is_executing": true
    }
   },
   "cell_type": "code",
   "source": "",
   "id": "initial_id",
   "outputs": [],
   "execution_count": null
  }
 ],
 "metadata": {
  "kernelspec": {
   "display_name": "Python 3 (ipykernel)",
   "language": "python",
   "name": "python3"
  },
  "language_info": {
   "codemirror_mode": {
    "name": "ipython",
    "version": 3
   },
   "file_extension": ".py",
   "mimetype": "text/x-python",
   "name": "python",
   "nbconvert_exporter": "python",
   "pygments_lexer": "ipython3",
   "version": "3.9.6"
  }
 },
 "nbformat": 4,
 "nbformat_minor": 5
}
