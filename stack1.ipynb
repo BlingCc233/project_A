{
 "cells": [
  {
   "cell_type": "code",
   "id": "initial_id",
   "metadata": {
    "collapsed": true,
    "ExecuteTime": {
     "end_time": "2024-05-16T13:21:21.422923Z",
     "start_time": "2024-05-16T13:21:18.376620Z"
    }
   },
   "source": [
    "import pandas as pd\n",
    "import numpy as np\n",
    "import matplotlib.pyplot as plt\n",
    "\n",
    "# 加载数据\n",
    "data_dir = 'raw_data'\n",
    "kz_files = [f'{data_dir}/kz_{i}.csv' for i in range(1, 6)]\n",
    "theta_files = [f'{data_dir}/Theta_{i}.csv' for i in range(1, 6)]\n",
    "\n",
    "kz_data = [pd.read_csv(file, header=None).values for file in kz_files]\n",
    "theta_data = [pd.read_csv(file, header=None).values for file in theta_files]\n",
    "\n",
    "# 检查数据维度\n",
    "for i in range(5):\n",
    "    print(f'kz_{i+1}.csv shape: {kz_data[i].shape}')\n",
    "    print(f'Theta_{i+1}.csv shape: {theta_data[i].shape}')\n"
   ],
   "outputs": [
    {
     "name": "stderr",
     "output_type": "stream",
     "text": [
      "/var/folders/5n/wnngr1j51d91yrx_z36vh6jr0000gn/T/ipykernel_47372/224233129.py:10: DtypeWarning: Columns (257,317) have mixed types. Specify dtype option on import or set low_memory=False.\n",
      "  kz_data = [pd.read_csv(file, header=None).values for file in kz_files]\n",
      "/var/folders/5n/wnngr1j51d91yrx_z36vh6jr0000gn/T/ipykernel_47372/224233129.py:10: DtypeWarning: Columns (668,890,1035,1050,1089,1152,1162,1170,1172,1318,1421,1859) have mixed types. Specify dtype option on import or set low_memory=False.\n",
      "  kz_data = [pd.read_csv(file, header=None).values for file in kz_files]\n",
      "/var/folders/5n/wnngr1j51d91yrx_z36vh6jr0000gn/T/ipykernel_47372/224233129.py:10: DtypeWarning: Columns (406,599,828,1205,1287,1288,1640) have mixed types. Specify dtype option on import or set low_memory=False.\n",
      "  kz_data = [pd.read_csv(file, header=None).values for file in kz_files]\n",
      "/var/folders/5n/wnngr1j51d91yrx_z36vh6jr0000gn/T/ipykernel_47372/224233129.py:10: DtypeWarning: Columns (517,781,1004,1024,1096,1130,1132,1156,1166,1179,1185,1201,1238,1247,1261,1284,1288,1297,1302,1341,1520,1522,1559) have mixed types. Specify dtype option on import or set low_memory=False.\n",
      "  kz_data = [pd.read_csv(file, header=None).values for file in kz_files]\n",
      "/var/folders/5n/wnngr1j51d91yrx_z36vh6jr0000gn/T/ipykernel_47372/224233129.py:10: DtypeWarning: Columns (149,153,156,819) have mixed types. Specify dtype option on import or set low_memory=False.\n",
      "  kz_data = [pd.read_csv(file, header=None).values for file in kz_files]\n"
     ]
    },
    {
     "name": "stdout",
     "output_type": "stream",
     "text": [
      "kz_1.csv shape: (805, 2001)\n",
      "Theta_1.csv shape: (805, 2001)\n",
      "kz_2.csv shape: (805, 2001)\n",
      "Theta_2.csv shape: (805, 2001)\n",
      "kz_3.csv shape: (805, 2001)\n",
      "Theta_3.csv shape: (805, 2001)\n",
      "kz_4.csv shape: (805, 2001)\n",
      "Theta_4.csv shape: (805, 2001)\n",
      "kz_5.csv shape: (805, 2001)\n",
      "Theta_5.csv shape: (805, 2001)\n"
     ]
    }
   ],
   "execution_count": 6
  },
  {
   "metadata": {},
   "cell_type": "markdown",
   "source": "$$ h = - \\frac{1}{k_{z,i}}(\\theta _i + 2 n_i \\pi ) $$",
   "id": "eda2a7cad4de000"
  },
  {
   "metadata": {},
   "cell_type": "code",
   "outputs": [],
   "execution_count": null,
   "source": [
    "row = 805\n",
    "column = 2001"
   ],
   "id": "f144a2e66c3a081a"
  },
  {
   "metadata": {
    "ExecuteTime": {
     "end_time": "2024-05-16T13:21:21.453902Z",
     "start_time": "2024-05-16T13:21:21.424900Z"
    }
   },
   "cell_type": "code",
   "source": [
    "# 设定参数\n",
    "def calculate_elevation(kz, theta, n):\n",
    "    return - (1 / kz) * (theta + 2 * n * np.pi)\n",
    "\n",
    "\n",
    "# 假设 n = 0，计算初始高程值\n",
    "elevations = [calculate_elevation(float(kz_data[i]), float(theta_data[i]), 0) for i in range(5)]\n",
    "\n",
    "# 可视化高程图（选择第1组数据作为示例）\n",
    "plt.imshow(elevations[0], cmap='viridis')\n",
    "plt.colorbar(label='Elevation (m)')\n",
    "plt.title('Elevation Map from kz_1 and Theta_1')\n",
    "plt.show()\n",
    "\n",
    "# 获取4个顶点的高程值\n",
    "def get_corners(elevation_data):\n",
    "    rows, cols = elevation_data.shape\n",
    "    return {\n",
    "        'top_left': elevation_data[0, 0],\n",
    "        'top_right': elevation_data[0, cols-1],\n",
    "        'bottom_left': elevation_data[rows-1, 0],\n",
    "        'bottom_right': elevation_data[rows-1, cols-1]\n",
    "    }\n",
    "\n",
    "corners = get_corners(elevations[0])\n",
    "print(\"Corners' elevations (in meters):\", corners)\n"
   ],
   "id": "cfdfde4c8c5cf63d",
   "outputs": [
    {
     "ename": "TypeError",
     "evalue": "only length-1 arrays can be converted to Python scalars",
     "output_type": "error",
     "traceback": [
      "\u001B[0;31m---------------------------------------------------------------------------\u001B[0m",
      "\u001B[0;31mTypeError\u001B[0m                                 Traceback (most recent call last)",
      "Cell \u001B[0;32mIn[7], line 6\u001B[0m\n\u001B[1;32m      3\u001B[0m     \u001B[38;5;28;01mreturn\u001B[39;00m \u001B[38;5;241m-\u001B[39m (\u001B[38;5;241m1\u001B[39m \u001B[38;5;241m/\u001B[39m kz) \u001B[38;5;241m*\u001B[39m (theta \u001B[38;5;241m+\u001B[39m \u001B[38;5;241m2\u001B[39m \u001B[38;5;241m*\u001B[39m n \u001B[38;5;241m*\u001B[39m np\u001B[38;5;241m.\u001B[39mpi)\n\u001B[1;32m      5\u001B[0m \u001B[38;5;66;03m# 假设 n = 0，计算初始高程值\u001B[39;00m\n\u001B[0;32m----> 6\u001B[0m elevations \u001B[38;5;241m=\u001B[39m [calculate_elevation(\u001B[38;5;28mfloat\u001B[39m(kz_data[i]), \u001B[38;5;28mfloat\u001B[39m(theta_data[i]), \u001B[38;5;241m0\u001B[39m) \u001B[38;5;28;01mfor\u001B[39;00m i \u001B[38;5;129;01min\u001B[39;00m \u001B[38;5;28mrange\u001B[39m(\u001B[38;5;241m5\u001B[39m)]\n\u001B[1;32m      8\u001B[0m \u001B[38;5;66;03m# 可视化高程图（选择第1组数据作为示例）\u001B[39;00m\n\u001B[1;32m      9\u001B[0m plt\u001B[38;5;241m.\u001B[39mimshow(elevations[\u001B[38;5;241m0\u001B[39m], cmap\u001B[38;5;241m=\u001B[39m\u001B[38;5;124m'\u001B[39m\u001B[38;5;124mviridis\u001B[39m\u001B[38;5;124m'\u001B[39m)\n",
      "Cell \u001B[0;32mIn[7], line 6\u001B[0m, in \u001B[0;36m<listcomp>\u001B[0;34m(.0)\u001B[0m\n\u001B[1;32m      3\u001B[0m     \u001B[38;5;28;01mreturn\u001B[39;00m \u001B[38;5;241m-\u001B[39m (\u001B[38;5;241m1\u001B[39m \u001B[38;5;241m/\u001B[39m kz) \u001B[38;5;241m*\u001B[39m (theta \u001B[38;5;241m+\u001B[39m \u001B[38;5;241m2\u001B[39m \u001B[38;5;241m*\u001B[39m n \u001B[38;5;241m*\u001B[39m np\u001B[38;5;241m.\u001B[39mpi)\n\u001B[1;32m      5\u001B[0m \u001B[38;5;66;03m# 假设 n = 0，计算初始高程值\u001B[39;00m\n\u001B[0;32m----> 6\u001B[0m elevations \u001B[38;5;241m=\u001B[39m [calculate_elevation(\u001B[38;5;28;43mfloat\u001B[39;49m\u001B[43m(\u001B[49m\u001B[43mkz_data\u001B[49m\u001B[43m[\u001B[49m\u001B[43mi\u001B[49m\u001B[43m]\u001B[49m\u001B[43m)\u001B[49m, \u001B[38;5;28mfloat\u001B[39m(theta_data[i]), \u001B[38;5;241m0\u001B[39m) \u001B[38;5;28;01mfor\u001B[39;00m i \u001B[38;5;129;01min\u001B[39;00m \u001B[38;5;28mrange\u001B[39m(\u001B[38;5;241m5\u001B[39m)]\n\u001B[1;32m      8\u001B[0m \u001B[38;5;66;03m# 可视化高程图（选择第1组数据作为示例）\u001B[39;00m\n\u001B[1;32m      9\u001B[0m plt\u001B[38;5;241m.\u001B[39mimshow(elevations[\u001B[38;5;241m0\u001B[39m], cmap\u001B[38;5;241m=\u001B[39m\u001B[38;5;124m'\u001B[39m\u001B[38;5;124mviridis\u001B[39m\u001B[38;5;124m'\u001B[39m)\n",
      "\u001B[0;31mTypeError\u001B[0m: only length-1 arrays can be converted to Python scalars"
     ]
    }
   ],
   "execution_count": 7
  },
  {
   "metadata": {},
   "cell_type": "code",
   "source": "",
   "id": "a7496e94aa41d2aa",
   "outputs": [],
   "execution_count": null
  }
 ],
 "metadata": {
  "kernelspec": {
   "display_name": "Python 3",
   "language": "python",
   "name": "python3"
  },
  "language_info": {
   "codemirror_mode": {
    "name": "ipython",
    "version": 2
   },
   "file_extension": ".py",
   "mimetype": "text/x-python",
   "name": "python",
   "nbconvert_exporter": "python",
   "pygments_lexer": "ipython2",
   "version": "2.7.6"
  }
 },
 "nbformat": 4,
 "nbformat_minor": 5
}
