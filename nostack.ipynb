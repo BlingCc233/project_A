{
 "cells": [
  {
   "cell_type": "code",
   "id": "588ee8be30b8ce04",
   "metadata": {
    "jupyter": {
     "is_executing": true
    },
    "ExecuteTime": {
     "start_time": "2024-05-16T11:25:33.197391Z"
    }
   },
   "source": [
    "import math\n",
    "\n",
    "import numpy as np\n",
    "import pandas as pd\n",
    "\n",
    "import matplotlib.pyplot as plt\n",
    "\n",
    "# 读取CSV文件\n",
    "\n",
    "df_k = pd.read_csv('kz_1.csv')\n",
    "df_theta = pd.read_csv('Theta_1.csv')\n",
    "\n",
    "# 创建空列表存储计算结果\n",
    "results = []\n",
    "\n",
    "# 获取数据的行数和列数\n",
    "num_rows = df_k.shape[0]\n",
    "num_cols = df_k.shape[1]\n",
    "\n",
    "# 创建空数组存储计算结果\n",
    "results = np.zeros((num_rows, num_cols))\n",
    "\n",
    "# 遍历每个数据点，计算结果\n",
    "for i in range(num_rows):\n",
    "    for j in range(num_cols):\n",
    "        k_i = df_k.iloc[i, j]\n",
    "        theta_i = df_theta.iloc[i, j]\n",
    "        results[i, j] = -1 / k_i * (theta_i + 2 * math.pi * 0)\n",
    "\n",
    "# 绘制色度图\n",
    "plt.imshow(results, cmap='viridis', aspect='auto')\n",
    "plt.colorbar()\n",
    "plt.xlabel('Column Index')\n",
    "plt.ylabel('Row Index')\n",
    "plt.title('Color Map of h values')\n",
    "plt.show()\n"
   ],
   "outputs": [],
   "execution_count": null
  },
  {
   "cell_type": "code",
   "execution_count": null,
   "id": "initial_id",
   "metadata": {
    "collapsed": true,
    "jupyter": {
     "outputs_hidden": true
    }
   },
   "outputs": [],
   "source": []
  }
 ],
 "metadata": {
  "kernelspec": {
   "display_name": "Python 3 (ipykernel)",
   "language": "python",
   "name": "python3"
  },
  "language_info": {
   "codemirror_mode": {
    "name": "ipython",
    "version": 3
   },
   "file_extension": ".py",
   "mimetype": "text/x-python",
   "name": "python",
   "nbconvert_exporter": "python",
   "pygments_lexer": "ipython3",
   "version": "3.9.6"
  }
 },
 "nbformat": 4,
 "nbformat_minor": 5
}
